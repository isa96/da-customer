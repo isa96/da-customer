{
 "cells": [
  {
   "cell_type": "markdown",
   "id": "9cd1d23e-cdc6-4ffb-942e-788c358b6fa2",
   "metadata": {},
   "source": [
    "# **KPMG Data Analytics Virtual Internship**"
   ]
  },
  {
   "cell_type": "markdown",
   "id": "9a4c7217-0904-4fbf-8a8f-686f38f93c3c",
   "metadata": {},
   "source": [
    "## Task 2\n",
    "### Data Insights\n",
    "\n",
    "    Targeting high value customers based on customer demographics and attributes."
   ]
  },
  {
   "cell_type": "markdown",
   "id": "c18e5f51-2652-482f-a02e-540e57e72dc3",
   "metadata": {},
   "source": [
    "#### Here is our task\n",
    "For context, Sprocket Central Pty Ltd is a long-standing KPMG client whom specialises in high-quality bikes and accessible cycling accessories to riders. Their marketing team is looking to boost business by analysing their existing customer dataset to determine customer trends and behaviour. \n",
    "\n",
    "Using the existing 3 datasets (Customer demographic, customer address and transactions) as a labelled dataset, please recommend which of these 1000 new customers should be targeted to drive the most value for the organisation. \n",
    "\n",
    "In building this recommendation, we need to start with a PowerPoint presentation which outlines the approach which we will be taking. The client has agreed on a 3 week scope with the following 3 phases as follows - Data Exploration, Model Development, and Interpretation.\n",
    "\n",
    "Prepare a detailed approach for completing the analysis including activities – i.e. understanding the data distributions, feature engineering, data transformations, modelling, results interpretation and reporting. This detailed plan needs to be presented to the client to get a sign-off. Please advise what steps you would take. \n",
    "\n",
    "Please ensure your PowerPoint presentation includes a detailed approach for our strategy behind each of the 3 phases including activities involved in each - i.e. understanding the data distributions, feature engineering, data transformations, modelling, results interpretation and reporting. This detailed plan needs to be presented to the client to get a sign-off."
   ]
  },
  {
   "cell_type": "markdown",
   "id": "d84f4124-7b53-4e3b-8539-9064db98ee1b",
   "metadata": {},
   "source": [
    "# Data Exploration"
   ]
  },
  {
   "cell_type": "markdown",
   "id": "470282a5-a425-4c65-b58e-405e66535e3d",
   "metadata": {},
   "source": [
    "## Import Library"
   ]
  },
  {
   "cell_type": "code",
   "execution_count": 1,
   "id": "3e8589d2-aa0c-4fa5-a1c9-f9ba6e575a77",
   "metadata": {},
   "outputs": [],
   "source": [
    "# Data manipulation\n",
    "import numpy as np\n",
    "import pandas as pd\n",
    "\n",
    "# Data visualization\n",
    "import matplotlib as mpl\n",
    "import matplotlib.pyplot as plt\n",
    "import seaborn as sns\n",
    "\n",
    "# Ignore warning\n",
    "import warnings\n",
    "warnings.filterwarnings('ignore')"
   ]
  },
  {
   "cell_type": "code",
   "execution_count": 2,
   "id": "8baf6a54-4883-4af9-90ff-a1d03ec53989",
   "metadata": {},
   "outputs": [],
   "source": [
    "pd.set_option('display.max_columns', None)\n",
    "pd.set_option('display.max_rows', None)"
   ]
  },
  {
   "cell_type": "code",
   "execution_count": 3,
   "id": "07bb395d-3f86-44b5-bf6a-594d612bd744",
   "metadata": {},
   "outputs": [
    {
     "name": "stdout",
     "output_type": "stream",
     "text": [
      "NumPy 1.24.2\n",
      "Pandas 2.0.1\n",
      "Matplotlib 3.7.1\n",
      "Seaborn 0.12.2\n"
     ]
    }
   ],
   "source": [
    "print('NumPy', np.__version__)\n",
    "print('Pandas', pd.__version__)\n",
    "print('Matplotlib', mpl.__version__)\n",
    "print('Seaborn', sns.__version__)"
   ]
  },
  {
   "cell_type": "markdown",
   "id": "d5128411-c7ce-4abc-96e6-3bd4ad9acdd9",
   "metadata": {},
   "source": [
    "## Read Dataset"
   ]
  },
  {
   "cell_type": "code",
   "execution_count": null,
   "id": "dc872d16-d55e-4745-ab88-18c54a6c75f5",
   "metadata": {},
   "outputs": [],
   "source": [
    "# Read the Transactions dataset\n",
    "txn = pd.read_excel('Transactions.xlsx')\n",
    "\n",
    "# Read the Customer List dataset\n",
    "old_c = pd.read_excel('OldCustomerList.xlsx')\n",
    "new_c = pd.read_excel('NewCustomerList.xlsx')\n",
    "all_c = pd.read_excel('AllCustomerList.xlsx')"
   ]
  },
  {
   "cell_type": "markdown",
   "id": "7fe1273d-f345-484e-a101-d2890338e4dc",
   "metadata": {},
   "source": [
    "## 0. Transactions Dataset"
   ]
  },
  {
   "cell_type": "code",
   "execution_count": null,
   "id": "6ece3b84-9afc-4976-a382-ee29f45e67f3",
   "metadata": {},
   "outputs": [],
   "source": [
    "# Dimensions of the DataFrame\n",
    "txn.shape"
   ]
  },
  {
   "cell_type": "code",
   "execution_count": null,
   "id": "fcdf4945-bfe3-453a-abc7-862f2a18dd44",
   "metadata": {},
   "outputs": [],
   "source": [
    "print('Total rows: {}'.format(txn.shape[0]))\n",
    "print('Total cols: {}'.format(txn.shape[1]))"
   ]
  },
  {
   "cell_type": "code",
   "execution_count": null,
   "id": "9bac1a64-139a-4e8f-a427-c4fb1ebd2b64",
   "metadata": {},
   "outputs": [],
   "source": [
    "# Data types of the columns\n",
    "txn.info()"
   ]
  },
  {
   "cell_type": "code",
   "execution_count": null,
   "id": "02dc2189-c96e-4832-bc62-68f1e5da1bbc",
   "metadata": {},
   "outputs": [],
   "source": [
    "# Display a few rows\n",
    "txn.head()"
   ]
  },
  {
   "cell_type": "code",
   "execution_count": null,
   "id": "ac82f6ca-39ea-4a2b-87e4-498481d5bde3",
   "metadata": {},
   "outputs": [],
   "source": [
    "txn = txn.sort_values('customer_id')\n",
    "txn.head()"
   ]
  },
  {
   "cell_type": "code",
   "execution_count": null,
   "id": "f0de6e73-88bb-4951-bbb9-94fc04532c5c",
   "metadata": {},
   "outputs": [],
   "source": [
    "txn[txn['last_purchases'] > 365].shape"
   ]
  },
  {
   "cell_type": "code",
   "execution_count": null,
   "id": "a5568cef-b8e8-41e4-9c93-0ba68b772cdd",
   "metadata": {},
   "outputs": [],
   "source": [
    "rfmTable = txn.groupby('customer_id').agg({\n",
    "    'last_purchases': lambda x: x.min(),\n",
    "    'customer_id': lambda x: len(x),\n",
    "    'profit': lambda x: x.sum()\n",
    "})\n",
    "\n",
    "rfmTable.rename(columns={\n",
    "    'last_purchases': 'recency', \n",
    "    'customer_id': 'frequency', \n",
    "    'profit': 'monetary_value'\n",
    "    }, inplace=True\n",
    ")\n",
    "\n",
    "rfmTable.head()"
   ]
  },
  {
   "cell_type": "code",
   "execution_count": null,
   "id": "a27f26a8-9ffc-4e27-8007-63b89dbc5768",
   "metadata": {},
   "outputs": [],
   "source": [
    "quartiles = rfmTable.quantile(q=[0.25,0.50,0.75])\n",
    "quartiles"
   ]
  },
  {
   "cell_type": "code",
   "execution_count": null,
   "id": "ecf77a6f-7a53-4776-aced-09094f7ce4ce",
   "metadata": {},
   "outputs": [],
   "source": [
    "# Define functions of RFM OneHotEncoder\n",
    "def r_OHE(x, p, d):\n",
    "    if x <= d[p][0.25]:\n",
    "        return 1\n",
    "    elif x <= d[p][0.5]:\n",
    "        return 2\n",
    "    elif x <= d[p][0.75]: \n",
    "        return 3\n",
    "    else: \n",
    "        return 4\n",
    "    \n",
    "def fm_OHE(x, p, d):\n",
    "    if x <= d[p][0.25]:\n",
    "        return 4\n",
    "    elif x <= d[p][0.5]:\n",
    "        return 2\n",
    "    elif x <= d[p][0.75]: \n",
    "        return 3\n",
    "    else: \n",
    "        return 1"
   ]
  },
  {
   "cell_type": "code",
   "execution_count": null,
   "id": "e88035ae-0e4e-4eb0-b011-d33c049708d7",
   "metadata": {},
   "outputs": [],
   "source": [
    "rfmSegment = rfmTable\n",
    "rfmSegment['r_score'] = rfmSegment['recency'].apply(r_OHE, args=('recency', quartiles))\n",
    "rfmSegment['f_score'] = rfmSegment['frequency'].apply(fm_OHE, args=('frequency', quartiles))\n",
    "rfmSegment['m_score'] = rfmSegment['monetary_value'].apply(fm_OHE, args=('monetary_value', quartiles))\n",
    "rfmSegment.head()"
   ]
  },
  {
   "cell_type": "code",
   "execution_count": null,
   "id": "d9ce1655-689c-4f37-9e3c-2b779ff9e457",
   "metadata": {},
   "outputs": [],
   "source": [
    "rfmSegment['rfm_class'] = 100 * rfmSegment['r_score'] + 10 * rfmSegment['f_score'] + rfmSegment['m_score']\n",
    "rfmSegment['total_score'] = rfmSegment['r_score'] + rfmSegment['f_score'] + rfmSegment['m_score']\n",
    "rfmSegment.head()"
   ]
  },
  {
   "cell_type": "code",
   "execution_count": null,
   "id": "d567cbcd-5f6e-440d-be6a-6f9b5bf63c0c",
   "metadata": {},
   "outputs": [],
   "source": [
    "rfm_quartiles = rfmSegment['rfm_class'].quantile(q=[0, 0.25, 0.5, 0.75, 1]).values\n",
    "rfm_quartiles"
   ]
  },
  {
   "cell_type": "code",
   "execution_count": null,
   "id": "9f1a7843-359f-47eb-915a-cc6fae7c5cb5",
   "metadata": {},
   "outputs": [],
   "source": [
    "# Define function of RFM Class OneHotEncoder\n",
    "def rfm_class_OHE(x, p, d):\n",
    "    if x <= d[0]:\n",
    "        return 'Platinum'\n",
    "    elif x <= d[1]:\n",
    "        return 'Gold'\n",
    "    elif x <= d[2]: \n",
    "        return 'Silver'\n",
    "    else: \n",
    "        return 'Classic'\n",
    "\n",
    "rfmSegment['customer_level'] = rfmSegment['rfm_class'].apply(rfm_class_OHE, args=('rfm_class', rfm_quartiles))"
   ]
  },
  {
   "cell_type": "code",
   "execution_count": null,
   "id": "47c2a321-b37a-4a53-bde0-ab516ffe0fcc",
   "metadata": {},
   "outputs": [],
   "source": [
    "rfmSegment.info()"
   ]
  },
  {
   "cell_type": "code",
   "execution_count": null,
   "id": "830f3ba0-1cd3-4645-aeff-1e583967761c",
   "metadata": {},
   "outputs": [],
   "source": [
    "rfmSegment.head()"
   ]
  },
  {
   "cell_type": "markdown",
   "id": "6597a8d1-7a3a-4c38-8b68-243c26cb5e46",
   "metadata": {},
   "source": [
    "## 1. OldCustomerList Dataset"
   ]
  },
  {
   "cell_type": "markdown",
   "id": "78d8a6d8-c498-4463-a855-437ef7b64278",
   "metadata": {},
   "source": [
    "### 1.0. Merge Old Customer List to RFM Segment"
   ]
  },
  {
   "cell_type": "code",
   "execution_count": null,
   "id": "a2a5e5b3-7510-4e99-afd0-7480e4dbf544",
   "metadata": {},
   "outputs": [],
   "source": [
    "old_c.columns"
   ]
  },
  {
   "cell_type": "code",
   "execution_count": null,
   "id": "4d20ce79-d2c2-44b5-82c9-c0ea1147708c",
   "metadata": {},
   "outputs": [],
   "source": [
    "old_c = old_c.drop(['first_name', 'last_name',\n",
    "                    'past_3_years_bike_related_purchases',\n",
    "                    'DOB', 'job_title', 'deceased_indicator',\n",
    "                    'tenure', 'address', 'postcode', 'country',\n",
    "                    'property_valuation'], axis=1)"
   ]
  },
  {
   "cell_type": "code",
   "execution_count": null,
   "id": "f73ac3a3-d48d-4519-9089-638766a4fd3e",
   "metadata": {},
   "outputs": [],
   "source": [
    "old_c_txn = pd.merge(rfmSegment, old_c, left_index=True, right_index=True)\n",
    "old_c_txn.columns"
   ]
  },
  {
   "cell_type": "code",
   "execution_count": null,
   "id": "613c6263-7843-447b-a949-3565c2e95178",
   "metadata": {},
   "outputs": [],
   "source": [
    "old_column_order = ['customer_id', 'age', 'gender', 'job_industry_category', 'wealth_segment',\n",
    "                    'owns_car', 'state', 'recency', 'frequency', 'monetary_value',\n",
    "                    'r_score', 'f_score', 'm_score', 'rfm_class', 'total_score',\n",
    "                    'customer_level']\n",
    "\n",
    "# Reorder column\n",
    "old_c_txn = old_c_txn.reindex(columns=old_column_order)\n",
    "old_c_txn.columns"
   ]
  },
  {
   "cell_type": "code",
   "execution_count": null,
   "id": "c701603f-c481-4072-993a-43931df9b470",
   "metadata": {},
   "outputs": [],
   "source": [
    "old_c_txn.shape"
   ]
  },
  {
   "cell_type": "code",
   "execution_count": null,
   "id": "51d23ee1-3a66-41a3-ac3d-99182a3a34c3",
   "metadata": {},
   "outputs": [],
   "source": [
    "old_c_txn.head()"
   ]
  },
  {
   "cell_type": "markdown",
   "id": "08c5115d-18f8-49d7-bfe3-f4843074d877",
   "metadata": {},
   "source": [
    "### 1.1. Data Insights"
   ]
  },
  {
   "cell_type": "markdown",
   "id": "3040b54b-b8a1-4394-b880-d41c30b041bb",
   "metadata": {},
   "source": [
    "#### 1.1.0. Recency, Frequency, and Monetary"
   ]
  },
  {
   "cell_type": "code",
   "execution_count": null,
   "id": "0c5950b9-650e-4a4e-81e7-9df01ef4f097",
   "metadata": {},
   "outputs": [],
   "source": [
    "fig, axs = plt.subplots(1, 3, figsize=(9, 3))\n",
    "\n",
    "old_c_txn.groupby('r_score').agg('recency').count().to_frame().plot(kind='bar', ax=axs[0])\n",
    "axs[0].set_title('Recency')\n",
    "axs[0].legend(loc='lower center')\n",
    "\n",
    "old_c_txn.groupby('f_score').agg('frequency').count().to_frame().plot(kind='bar', ax=axs[1])\n",
    "axs[1].set_title('Frequency')\n",
    "axs[1].legend(loc='lower center')\n",
    "\n",
    "old_c_txn.groupby('m_score').agg('monetary_value').count().to_frame().plot(kind='bar', ax=axs[2])\n",
    "axs[2].set_title('Monetary')\n",
    "axs[2].legend(loc='lower center')\n",
    "\n",
    "plt.tight_layout(pad=2)\n",
    "plt.show()"
   ]
  },
  {
   "cell_type": "code",
   "execution_count": null,
   "id": "3f17fe88-efe8-46ed-afbc-eb23972109d4",
   "metadata": {},
   "outputs": [],
   "source": [
    "fig, axs = plt.subplots(1, 3, figsize=(9, 3))\n",
    "\n",
    "old_c_txn.groupby('total_score').agg('recency').mean().to_frame().plot(kind='bar', ax=axs[0])\n",
    "axs[0].set_title('Recency')\n",
    "\n",
    "old_c_txn.groupby('total_score').agg('frequency').mean().to_frame().plot(kind='bar', ax=axs[1])\n",
    "axs[1].set_title('Frequency')\n",
    "\n",
    "old_c_txn.groupby('total_score').agg('monetary_value').mean().to_frame().plot(kind='bar', ax=axs[2])\n",
    "axs[2].set_title('Monetary')\n",
    "\n",
    "plt.tight_layout(pad=2)\n",
    "plt.show()"
   ]
  },
  {
   "cell_type": "code",
   "execution_count": null,
   "id": "35bb2c43-0d38-402d-8dd1-cb589d562be7",
   "metadata": {},
   "outputs": [],
   "source": [
    "fig, axs = plt.subplots(1, 3, figsize=(8,3))\n",
    "\n",
    "sns.scatterplot(data=old_c_txn, x='recency', y='monetary_value', ax=axs[0])\n",
    "axs[0].set_title('Recency vs. Monetary')\n",
    "\n",
    "sns.scatterplot(data=old_c_txn, x='recency', y='frequency', ax=axs[1])\n",
    "axs[1].set_title('Recency vs. Frequency')\n",
    "\n",
    "sns.scatterplot(data=old_c_txn, x='monetary_value', y='frequency', ax=axs[2])\n",
    "axs[2].set_title('Monetary vs. Frequency')\n",
    "\n",
    "plt.tight_layout(pad=2)\n",
    "plt.show()"
   ]
  },
  {
   "cell_type": "markdown",
   "id": "886cc53b-855a-4de7-8e20-2d7773c3b822",
   "metadata": {},
   "source": [
    "#### 1.1.1. Customer Level"
   ]
  },
  {
   "cell_type": "code",
   "execution_count": null,
   "id": "92906d85-9b09-4de1-8e46-c80a80c3bbbc",
   "metadata": {},
   "outputs": [],
   "source": [
    "customer_level = old_c_txn.groupby('customer_level').agg({\n",
    "    'rfm_class': lambda x: len(x)\n",
    "})\n",
    "customer_level.rename(columns={'rfm_class': 'count'}, inplace=True)\n",
    "\n",
    "plt.figure(figsize = (8, 6))\n",
    "sns.barplot(x='count',\n",
    "            y=customer_level.index,\n",
    "            data=customer_level, palette='tab10',\n",
    "            order=customer_level.sort_values('count', ascending=False).index)\n",
    "\n",
    "plt.title('Customer Level')\n",
    "plt.xlabel('Count')\n",
    "plt.ylabel('Customer Level')\n",
    "plt.show()"
   ]
  },
  {
   "cell_type": "code",
   "execution_count": null,
   "id": "51bccba2-44d2-49d2-ab5d-71f6c6e1ed98",
   "metadata": {},
   "outputs": [],
   "source": [
    "bins = [0, 19, 29, 39, 49, 59, 69, old_c_txn['age'].max()]\n",
    "labels = ['<20', '20-29', '30-39', '40-49', '50-59', '60-69', '>70']\n",
    "old_c_txn['age_class'] = pd.cut(old_c_txn['age'], bins=bins, labels=labels)\n",
    "\n",
    "plt.figure(figsize=(8,6))\n",
    "sns.countplot(data=old_c_txn, y='age_class', hue='customer_level', palette='tab10')\n",
    "plt.title('Customer Level by Age')\n",
    "plt.xlim(0, 650)\n",
    "plt.legend(title='Level', loc='upper right')\n",
    "plt.show()"
   ]
  },
  {
   "cell_type": "markdown",
   "id": "82c555d4-5edd-4e30-a87c-a00ccc7cb3b7",
   "metadata": {},
   "source": [
    "#### 1.1.2. Gender"
   ]
  },
  {
   "cell_type": "code",
   "execution_count": null,
   "id": "f346544f-fe3a-41ad-8ee8-1421fb094b38",
   "metadata": {
    "tags": []
   },
   "outputs": [],
   "source": [
    "plt.figure(figsize=(8,6))\n",
    "sns.countplot(data=old_c_txn, y='age_class', hue='gender', palette='tab10')\n",
    "plt.title('Gender by Age')\n",
    "plt.xlim(0, 650)\n",
    "plt.legend(title='Gender', loc='upper right')\n",
    "plt.show()"
   ]
  },
  {
   "cell_type": "code",
   "execution_count": null,
   "id": "d8cebf20-aa81-4f1a-bb8b-c4d9756180f3",
   "metadata": {},
   "outputs": [],
   "source": [
    "plt.figure(figsize=(8,6))\n",
    "sns.countplot(data=old_c_txn, y='wealth_segment', hue='gender', palette='tab10')\n",
    "plt.title('Gender by Wealth Segment')\n",
    "plt.legend(title='Gender', loc='lower right')\n",
    "plt.show()"
   ]
  },
  {
   "cell_type": "markdown",
   "id": "0dc2b994-e3b3-409e-8ac4-aba9eba89c5e",
   "metadata": {},
   "source": [
    "#### 1.1.3. Wealth Segment"
   ]
  },
  {
   "cell_type": "code",
   "execution_count": null,
   "id": "f20d62e7-e1db-4472-abf1-0c22becd8013",
   "metadata": {},
   "outputs": [],
   "source": [
    "plt.figure(figsize=(8,6))\n",
    "sns.countplot(data=old_c_txn, y='age_class', hue='wealth_segment', palette='tab10')\n",
    "plt.title('Wealth Segment by Age')\n",
    "plt.xlim(0, 650)\n",
    "plt.legend(title='Wealth Segment', loc='upper right')\n",
    "plt.show()"
   ]
  },
  {
   "cell_type": "code",
   "execution_count": null,
   "id": "f5188b6d-0e78-4dd3-9c53-6300d62ef692",
   "metadata": {},
   "outputs": [],
   "source": [
    "plt.figure(figsize=(8,6))\n",
    "sns.countplot(data=old_c_txn, y='owns_car', hue='wealth_segment', palette='tab10')\n",
    "plt.title('Wealth Segment by Car Ownership')\n",
    "plt.xlim(0, 899)\n",
    "plt.legend(title='Wealth Segment', loc='lower right')\n",
    "plt.show()"
   ]
  },
  {
   "cell_type": "markdown",
   "id": "48490457-eb2e-4b14-ba72-0b5c80cd6a3d",
   "metadata": {},
   "source": [
    "#### 1.1.4. Car Ownership"
   ]
  },
  {
   "cell_type": "code",
   "execution_count": null,
   "id": "048e7e70-f355-4cec-a386-879dcd104f48",
   "metadata": {},
   "outputs": [],
   "source": [
    "plt.figure(figsize=(8,6))\n",
    "sns.countplot(data=old_c_txn, y='job_industry_category', hue='owns_car', palette='tab10')\n",
    "plt.title('Car Ownership by Job Industry')\n",
    "plt.legend(['Not Own a Car', 'Owns Car'], loc='lower right')\n",
    "plt.show()"
   ]
  },
  {
   "cell_type": "code",
   "execution_count": null,
   "id": "4a989daf-8654-4d5c-9f35-c6d71ad83c11",
   "metadata": {},
   "outputs": [],
   "source": [
    "plt.figure(figsize=(8,6))\n",
    "sns.countplot(data=old_c_txn, y='state', hue='owns_car', palette='tab10')\n",
    "plt.title('Car Ownership by State')\n",
    "plt.legend(['Not Own a Car', 'Owns Car'], loc='lower right')\n",
    "plt.show()"
   ]
  },
  {
   "cell_type": "markdown",
   "id": "23ff0c72-0468-424f-8bdf-1c9abe63596b",
   "metadata": {},
   "source": [
    "#### 1.1.5. State"
   ]
  },
  {
   "cell_type": "code",
   "execution_count": null,
   "id": "a11fb7ea-fe2f-4c11-bf25-135806d6eeb0",
   "metadata": {
    "tags": []
   },
   "outputs": [],
   "source": [
    "plt.figure(figsize=(8,6))\n",
    "sns.countplot(data=old_c_txn, y='age_class', hue='state', palette='tab10')\n",
    "plt.title('State by Age')\n",
    "plt.xlim(0, 650)\n",
    "plt.legend(title='State', loc='upper right')\n",
    "plt.show()"
   ]
  },
  {
   "cell_type": "code",
   "execution_count": null,
   "id": "5283dbce-1a5a-4dd4-8094-c66c16e78164",
   "metadata": {},
   "outputs": [],
   "source": [
    "plt.figure(figsize=(8,6))\n",
    "sns.countplot(data=old_c_txn, y='customer_level', hue='state', palette='tab10',\n",
    "              order=['Platinum', 'Gold', 'Silver', 'Classic'])\n",
    "plt.title('State by Customer Level')\n",
    "plt.legend(title='State', loc='upper right')\n",
    "plt.show()"
   ]
  },
  {
   "cell_type": "markdown",
   "id": "63d5a62c-c2e0-4efe-8330-466bbe3a86b9",
   "metadata": {},
   "source": [
    "#### 1.1.6. Job Industry"
   ]
  },
  {
   "cell_type": "code",
   "execution_count": null,
   "id": "52f3c3e6-a30e-455e-9073-2c1ba45525e3",
   "metadata": {},
   "outputs": [],
   "source": [
    "plt.figure(figsize=(10,6))\n",
    "sns.countplot(data=old_c_txn, y='job_industry_category', hue='m_score', palette='tab10')\n",
    "plt.title('Job Industries with M Score')\n",
    "plt.legend(title='M Score')\n",
    "plt.show()"
   ]
  },
  {
   "cell_type": "markdown",
   "id": "9a3b14dc-d04c-4612-b80e-2ff30ad68157",
   "metadata": {},
   "source": [
    "### 1.2. RFM Segmentation"
   ]
  },
  {
   "cell_type": "markdown",
   "id": "443998e3-1c82-44fc-9b98-6653c5389147",
   "metadata": {},
   "source": [
    "Source: [RFM Segmentation](https://documentation.bloomreach.com/engagement/docs/rfm-segmentation)"
   ]
  },
  {
   "cell_type": "code",
   "execution_count": null,
   "id": "bde5301d-ebac-4ca0-9ccb-cabe26378486",
   "metadata": {},
   "outputs": [],
   "source": [
    "oc = old_c_txn.groupby('customer_level').agg({'age': lambda x: len(x)})\n",
    "oc.rename(columns={'age':'count'}, inplace=True)\n",
    "oc['count'] = oc['count'].astype(int)\n",
    "oc.T"
   ]
  },
  {
   "cell_type": "code",
   "execution_count": null,
   "id": "d1294354-c3d3-4dbe-b1cb-ad702da517c5",
   "metadata": {},
   "outputs": [],
   "source": [
    "print(f'Total Old Customer: {oc.sum().values}')"
   ]
  },
  {
   "cell_type": "code",
   "execution_count": null,
   "id": "1fe0db22-6cda-459b-b520-5951fc037b7c",
   "metadata": {},
   "outputs": [],
   "source": [
    "oc = old_c_txn.groupby(['state','customer_level']).agg({'age': lambda x: len(x)})\n",
    "oc.rename(columns={'age':'count'}, inplace=True)\n",
    "oc['count'] = oc['count'].astype(int)\n",
    "oc.T"
   ]
  },
  {
   "cell_type": "code",
   "execution_count": null,
   "id": "20ce266a-ff59-403e-9a40-0a63fc4f6185",
   "metadata": {},
   "outputs": [],
   "source": [
    "oc = old_c_txn.groupby(['total_score']).agg({'age': lambda x: x.count()}).cumsum()\n",
    "oc.rename(columns={'age':'count'},inplace=True)\n",
    "oc['count'] = oc['count'].astype(int)\n",
    "oc.T"
   ]
  },
  {
   "cell_type": "markdown",
   "id": "1aeb195c-bcec-4fad-997a-b466b2b17430",
   "metadata": {},
   "source": [
    "#### 1.2.0. Customer Segment"
   ]
  },
  {
   "cell_type": "code",
   "execution_count": null,
   "id": "80654208-fe77-441f-87da-fe834f9692de",
   "metadata": {},
   "outputs": [],
   "source": [
    "old_c_txn['customer_segment'] = old_c_txn['total_score'].map({\n",
    "    3: 'Champions',\n",
    "    4: 'Loyalists',\n",
    "    5: 'Potential Loyalists',\n",
    "    6: 'New Customers',\n",
    "    7: 'Promising',\n",
    "    8: 'Need Attention',\n",
    "    9: 'About to Sleep',\n",
    "    10: 'High Risk',\n",
    "    11: 'Hibernating',\n",
    "    12: 'Lost Customers'\n",
    "})\n",
    "old_c_txn['customer_segment'].value_counts()"
   ]
  },
  {
   "cell_type": "code",
   "execution_count": null,
   "id": "05b7e4a3-b5cf-48b5-9c0f-f3e262bff6fb",
   "metadata": {},
   "outputs": [],
   "source": [
    "old_c_txn.head()"
   ]
  },
  {
   "cell_type": "markdown",
   "id": "9ad3edde-0c7d-4b29-920f-12785f4d0947",
   "metadata": {},
   "source": [
    "#### 1.2.1. Top 1000 Old Customer"
   ]
  },
  {
   "cell_type": "code",
   "execution_count": null,
   "id": "34c51f68-448e-4217-991f-052ef3394782",
   "metadata": {},
   "outputs": [],
   "source": [
    "top_1000_old_customer = old_c_txn.sort_values('rfm_class').head(1000)\n",
    "top_1000_old_customer.head()"
   ]
  },
  {
   "cell_type": "markdown",
   "id": "54defe31-eb59-4aa5-ba14-13912115bdaf",
   "metadata": {},
   "source": [
    "## 2. NewCustomerList Dataset"
   ]
  },
  {
   "cell_type": "code",
   "execution_count": null,
   "id": "de296bc9-3102-47ff-84dc-25a0eea41c6a",
   "metadata": {},
   "outputs": [],
   "source": [
    "new_c.columns"
   ]
  },
  {
   "cell_type": "code",
   "execution_count": null,
   "id": "b835adff-4cfa-47b6-aab4-333792d7b3dd",
   "metadata": {},
   "outputs": [],
   "source": [
    "new_c = new_c.drop(['first_name', 'last_name',\n",
    "                    'past_3_years_bike_related_purchases',\n",
    "                    'DOB', 'job_title', 'deceased_indicator',\n",
    "                    'tenure', 'address', 'postcode', 'country',\n",
    "                    'property_valuation', 'Rank', 'Value'], axis=1)"
   ]
  },
  {
   "cell_type": "code",
   "execution_count": null,
   "id": "7024ea0a-4493-405a-a91f-2c4acec5cb87",
   "metadata": {},
   "outputs": [],
   "source": [
    "new_column_order = ['customer_id', 'age', 'gender', 'job_industry_category',\n",
    "                    'wealth_segment', 'owns_car', 'state']\n",
    "\n",
    "# Reorder column\n",
    "new_c = new_c.reindex(columns=old_column_order)\n",
    "new_c.columns"
   ]
  },
  {
   "cell_type": "code",
   "execution_count": null,
   "id": "64fa5d71-270b-407b-925d-81b1ba572150",
   "metadata": {},
   "outputs": [],
   "source": [
    "new_c.shape"
   ]
  },
  {
   "cell_type": "code",
   "execution_count": null,
   "id": "024b5b3b-4a3a-4fab-9005-267eb6c32dd4",
   "metadata": {},
   "outputs": [],
   "source": [
    "new_c.head()"
   ]
  },
  {
   "cell_type": "markdown",
   "id": "74217702-b85d-41ef-90fe-e35b6e48681e",
   "metadata": {},
   "source": [
    "### 2.1. Data Insights"
   ]
  },
  {
   "cell_type": "markdown",
   "id": "d4f71546-c690-4559-b621-61db1c8cdcfc",
   "metadata": {},
   "source": [
    "#### 2.1. Gender"
   ]
  },
  {
   "cell_type": "code",
   "execution_count": null,
   "id": "e695d447-c840-41b7-813d-00f931b97760",
   "metadata": {
    "tags": []
   },
   "outputs": [],
   "source": [
    "bins = [0, 19, 29, 39, 49, 59, 69, new_c['age'].max()]\n",
    "labels = ['<20', '20-29', '30-39', '40-49', '50-59', '60-69', '>70']\n",
    "new_c['age_class'] = pd.cut(new_c['age'], bins=bins, labels=labels)\n",
    "\n",
    "plt.figure(figsize=(8,6))\n",
    "sns.countplot(data=new_c, y='age_class', hue='gender', palette='tab10')\n",
    "plt.title('Gender by Age')\n",
    "plt.xlim(0, 119)\n",
    "plt.legend(title='Gender', loc='upper right')\n",
    "plt.show()"
   ]
  },
  {
   "cell_type": "code",
   "execution_count": null,
   "id": "17e8241a-b998-46dc-b1d6-0f9466e51b27",
   "metadata": {},
   "outputs": [],
   "source": [
    "plt.figure(figsize=(8,6))\n",
    "sns.countplot(data=new_c, y='wealth_segment', hue='gender', palette='tab10')\n",
    "plt.title('Gender by Wealth Segment')\n",
    "plt.legend(title='Gender', loc='lower right')\n",
    "plt.show()"
   ]
  },
  {
   "cell_type": "markdown",
   "id": "eae023dd-5a2e-49d1-9405-66c239cf2457",
   "metadata": {},
   "source": [
    "#### 2.2. Wealth Segment"
   ]
  },
  {
   "cell_type": "code",
   "execution_count": null,
   "id": "880bdc6c-ec69-4c3e-9a1b-aa1cff6bd9aa",
   "metadata": {},
   "outputs": [],
   "source": [
    "plt.figure(figsize=(8,6))\n",
    "sns.countplot(data=new_c, y='age_class', hue='wealth_segment', palette='tab10')\n",
    "plt.title('Wealth Segment by Age')\n",
    "plt.xlim(0, 119)\n",
    "plt.legend(title='Wealth Segment', loc='upper right')\n",
    "plt.show()"
   ]
  },
  {
   "cell_type": "code",
   "execution_count": null,
   "id": "284eff72-a6f1-4e2f-9884-16baed0dff19",
   "metadata": {},
   "outputs": [],
   "source": [
    "plt.figure(figsize=(8,6))\n",
    "sns.countplot(data=new_c, y='owns_car', hue='wealth_segment', palette='tab10')\n",
    "plt.title('Wealth Segment by Car Ownership')\n",
    "plt.xlim(0, 299)\n",
    "plt.legend(title='Wealth Segment', loc='lower right')\n",
    "plt.show()"
   ]
  },
  {
   "cell_type": "markdown",
   "id": "b440b44c-6aeb-4da2-92ab-bac2b4f67655",
   "metadata": {},
   "source": [
    "#### 2.3. Car Ownership"
   ]
  },
  {
   "cell_type": "code",
   "execution_count": null,
   "id": "6f5c00c5-d5c3-4774-9b84-f5728b83a285",
   "metadata": {},
   "outputs": [],
   "source": [
    "plt.figure(figsize=(8,6))\n",
    "sns.countplot(data=new_c, y='job_industry_category', hue='owns_car', palette='tab10')\n",
    "plt.title('Car Ownership by Job Industry')\n",
    "plt.xlim(0, 119)\n",
    "plt.legend(['Not Own a Car', 'Owns Car'], loc='lower right')\n",
    "plt.show()"
   ]
  },
  {
   "cell_type": "code",
   "execution_count": null,
   "id": "55fb52d8-1d28-460d-a2df-6bcb46099266",
   "metadata": {},
   "outputs": [],
   "source": [
    "plt.figure(figsize=(8,6))\n",
    "sns.countplot(data=new_c, y='state', hue='owns_car', palette='tab10')\n",
    "plt.title('Car Ownership by State')\n",
    "plt.legend(['Not Own a Car', 'Owns Car'], loc='lower right')\n",
    "plt.show()"
   ]
  },
  {
   "cell_type": "markdown",
   "id": "b614d5d2-26aa-4781-a956-e3c9f6df3a3c",
   "metadata": {},
   "source": [
    "#### 2.4. State"
   ]
  },
  {
   "cell_type": "code",
   "execution_count": null,
   "id": "6c31fd60-40b2-43f6-9717-0fc8acce80e7",
   "metadata": {
    "tags": []
   },
   "outputs": [],
   "source": [
    "plt.figure(figsize=(8,6))\n",
    "sns.countplot(data=new_c, y='age_class', hue='state', palette='tab10')\n",
    "plt.title('State by Age')\n",
    "plt.xlim(0, 119)\n",
    "plt.legend(title='State', loc='upper right')\n",
    "plt.show()"
   ]
  },
  {
   "cell_type": "markdown",
   "id": "bbe7851b-abb1-43fa-8eba-0558e76075b9",
   "metadata": {},
   "source": [
    "## 3. Export the Dataset"
   ]
  },
  {
   "cell_type": "code",
   "execution_count": null,
   "id": "ca902ac5-fd09-4e24-bcf1-026723327760",
   "metadata": {},
   "outputs": [],
   "source": [
    "# Export dataset to a xlsx file\n",
    "old_c_txn.to_excel('OldCustomer_Transactions.xlsx', index=False)\n",
    "top_1000_old_customer.to_excel('Top1000_OldCustomer.xlsx', index=False)"
   ]
  }
 ],
 "metadata": {
  "kernelspec": {
   "display_name": "Python 3 (ipykernel)",
   "language": "python",
   "name": "python3"
  },
  "language_info": {
   "codemirror_mode": {
    "name": "ipython",
    "version": 3
   },
   "file_extension": ".py",
   "mimetype": "text/x-python",
   "name": "python",
   "nbconvert_exporter": "python",
   "pygments_lexer": "ipython3",
   "version": "3.10.9"
  }
 },
 "nbformat": 4,
 "nbformat_minor": 5
}
